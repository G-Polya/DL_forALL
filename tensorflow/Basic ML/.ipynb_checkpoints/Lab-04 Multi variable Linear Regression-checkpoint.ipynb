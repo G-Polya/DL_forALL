{
 "cells": [
  {
   "cell_type": "code",
   "execution_count": 1,
   "metadata": {},
   "outputs": [
    {
     "name": "stdout",
     "output_type": "stream",
     "text": [
      "2.0.0\n"
     ]
    }
   ],
   "source": [
    "import tensorflow as tf\n",
    "import numpy as np\n",
    "\n",
    "print(tf.__version__)"
   ]
  },
  {
   "cell_type": "code",
   "execution_count": 2,
   "metadata": {},
   "outputs": [],
   "source": [
    "tf.random.set_seed(0)"
   ]
  },
  {
   "cell_type": "markdown",
   "metadata": {},
   "source": [
    "# Simple Example 2 variables"
   ]
  },
  {
   "cell_type": "code",
   "execution_count": 7,
   "metadata": {},
   "outputs": [
    {
     "name": "stdout",
     "output_type": "stream",
     "text": [
      "    0 | 298.163208 |    -2.0312 |    -8.8716 |   5.555960\n",
      "   50 | 123.566689 |    -1.2893 |    -6.2081 |   6.438887\n",
      "  100 |  56.342140 |    -1.0056 |    -4.4898 |   6.908751\n",
      "  150 |  29.300915 |    -0.9084 |    -3.3732 |   7.144037\n",
      "  200 |  18.064541 |    -0.8805 |    -2.6416 |   7.243129\n",
      "  250 |  13.235641 |    -0.8734 |    -2.1573 |   7.261687\n",
      "  300 |  11.051542 |    -0.8686 |    -1.8323 |   7.231983\n",
      "  350 |   9.972128 |    -0.8601 |    -1.6102 |   7.173151\n",
      "  400 |   9.359201 |    -0.8469 |    -1.4548 |   7.096750\n",
      "  450 |   8.946493 |    -0.8297 |    -1.3426 |   7.009877\n",
      "  500 |   8.622438 |    -0.8094 |    -1.2586 |   6.916938\n",
      "  550 |   8.340123 |    -0.7870 |    -1.1929 |   6.820694\n",
      "  600 |   8.079732 |    -0.7633 |    -1.1393 |   6.722889\n",
      "  650 |   7.832807 |    -0.7388 |    -1.0937 |   6.624624\n",
      "  700 |   7.595675 |    -0.7139 |    -1.0534 |   6.526597\n",
      "  750 |   7.366667 |    -0.6889 |    -1.0168 |   6.429249\n",
      "  800 |   7.144961 |    -0.6640 |    -0.9827 |   6.332852\n",
      "  850 |   6.930084 |    -0.6392 |    -0.9503 |   6.237575\n",
      "  900 |   6.721749 |    -0.6146 |    -0.9193 |   6.143526\n",
      "  950 |   6.519705 |    -0.5904 |    -0.8892 |   6.050760\n",
      " 1000 |   6.323745 |    -0.5664 |    -0.8600 |   5.959306\n"
     ]
    }
   ],
   "source": [
    "x1_data = [1,0,3,0,5]\n",
    "x2_data = [0,2,0,4,0]\n",
    "y_data = [1,2,3,4,5]\n",
    "\n",
    "W1 = tf.Variable(tf.random.uniform((1,), -10.0, 10.0))\n",
    "W2 = tf.Variable(tf.random.uniform((1,), -10.0, 10.0))\n",
    "b = tf.Variable(tf.random.uniform((1,), -10.0, 10.0))\n",
    "\n",
    "learning_rate = tf.Variable(0.001)\n",
    "\n",
    "for i in range(1000+1):\n",
    "    with tf.GradientTape() as tape:\n",
    "        hypothesis = W1 * x1_data + W2 * x2_data + b\n",
    "        cost = tf.reduce_mean(tf.square(hypothesis - y_data))\n",
    "    W1_grad,W2_grad,b_grad = tape.gradient(cost, [W1,W2,b])\n",
    "    W1.assign_sub(learning_rate*W1_grad)\n",
    "    W2.assign_sub(learning_rate*W2_grad)\n",
    "    b.assign_sub(learning_rate*b_grad)\n",
    "    \n",
    "    if i % 50 == 0:\n",
    "        print(\"{:5} | {:10.6f} | {:10.4f} | {:10.4f} | {:10.6f}\".format(\n",
    "          i, cost.numpy(), W1.numpy()[0], W2.numpy()[0], b.numpy()[0]))\n",
    "        "
   ]
  },
  {
   "cell_type": "markdown",
   "metadata": {},
   "source": [
    "# Simple Example 2 variables with Matrix"
   ]
  },
  {
   "cell_type": "code",
   "execution_count": 13,
   "metadata": {},
   "outputs": [
    {
     "name": "stdout",
     "output_type": "stream",
     "text": [
      "    0 |  16.191433 |    -0.1438 |     0.0907 |  -0.483252\n",
      "   50 |   4.108324 |     0.4768 |     0.4242 |  -0.217644\n",
      "  100 |   1.135702 |     0.7591 |     0.6284 |  -0.081244\n",
      "  150 |   0.348200 |     0.8860 |     0.7553 |  -0.009809\n",
      "  200 |   0.118523 |     0.9420 |     0.8350 |   0.028319\n",
      "  250 |   0.044205 |     0.9660 |     0.8856 |   0.048983\n",
      "  300 |   0.017833 |     0.9760 |     0.9179 |   0.060262\n",
      "  350 |   0.007802 |     0.9798 |     0.9388 |   0.066368\n",
      "  400 |   0.003805 |     0.9811 |     0.9522 |   0.069550\n",
      "  450 |   0.002159 |     0.9815 |     0.9611 |   0.071042\n",
      "  500 |   0.001462 |     0.9816 |     0.9669 |   0.071536\n",
      "  550 |   0.001154 |     0.9816 |     0.9707 |   0.071433\n",
      "  600 |   0.001010 |     0.9816 |     0.9733 |   0.070969\n",
      "  650 |   0.000933 |     0.9817 |     0.9751 |   0.070286\n",
      "  700 |   0.000886 |     0.9819 |     0.9764 |   0.069473\n",
      "  750 |   0.000851 |     0.9821 |     0.9774 |   0.068581\n",
      "  800 |   0.000822 |     0.9823 |     0.9781 |   0.067646\n",
      "  850 |   0.000796 |     0.9825 |     0.9787 |   0.066688\n",
      "  900 |   0.000771 |     0.9828 |     0.9792 |   0.065721\n",
      "  950 |   0.000748 |     0.9830 |     0.9796 |   0.064754\n",
      " 1000 |   0.000725 |     0.9832 |     0.9800 |   0.063791\n"
     ]
    }
   ],
   "source": [
    "x_data = [\n",
    "    [1., 0., 3., 0., 5.],\n",
    "    [0., 2., 0., 4., 0.]\n",
    "]\n",
    "y_data  = [1, 2, 3, 4, 5]\n",
    "\n",
    "W = tf.Variable(tf.random.uniform((1, 2), -1.0, 1.0))\n",
    "b = tf.Variable(tf.random.uniform((1,), -1.0, 1.0))\n",
    "\n",
    "learning_rate = tf.Variable(0.001)\n",
    "\n",
    "for i in range(1000+1):\n",
    "    with tf.GradientTape() as tape:\n",
    "        hypothesis = tf.matmul(W, x_data) + b # (1, 2) * (2, 5) = (1, 5)\n",
    "        cost = tf.reduce_mean(tf.square(hypothesis - y_data))\n",
    "\n",
    "        W_grad, b_grad = tape.gradient(cost, [W, b])\n",
    "        W.assign_sub(learning_rate * W_grad)\n",
    "        b.assign_sub(learning_rate * b_grad)\n",
    "    \n",
    "    if i % 50 == 0:\n",
    "        print(\"{:5} | {:10.6f} | {:10.4f} | {:10.4f} | {:10.6f}\".format(\n",
    "            i, cost.numpy(), W.numpy()[0][0], W.numpy()[0][1], b.numpy()[0]))"
   ]
  },
  {
   "cell_type": "markdown",
   "metadata": {},
   "source": [
    "# Hypothesis without b"
   ]
  },
  {
   "cell_type": "code",
   "execution_count": 15,
   "metadata": {},
   "outputs": [
    {
     "name": "stdout",
     "output_type": "stream",
     "text": [
      "    0 |   4.295470 |     0.1115 |     0.4252 |     0.2424\n",
      "   50 |   1.279871 |     0.2461 |     0.6909 |     0.4742\n",
      "  100 |   0.436048 |     0.3153 |     0.8098 |     0.6197\n",
      "  150 |   0.173934 |     0.3506 |     0.8622 |     0.7122\n",
      "  200 |   0.083689 |     0.3679 |     0.8849 |     0.7716\n",
      "  250 |   0.049756 |     0.3754 |     0.8947 |     0.8102\n",
      "  300 |   0.036006 |     0.3774 |     0.8989 |     0.8356\n",
      "  350 |   0.029982 |     0.3764 |     0.9010 |     0.8525\n",
      "  400 |   0.027051 |     0.3735 |     0.9023 |     0.8641\n",
      "  450 |   0.025395 |     0.3697 |     0.9034 |     0.8722\n",
      "  500 |   0.024279 |     0.3652 |     0.9045 |     0.8780\n",
      "  550 |   0.023402 |     0.3604 |     0.9056 |     0.8824\n",
      "  600 |   0.022637 |     0.3554 |     0.9069 |     0.8858\n",
      "  650 |   0.021931 |     0.3503 |     0.9081 |     0.8886\n",
      "  700 |   0.021261 |     0.3451 |     0.9094 |     0.8909\n",
      "  750 |   0.020617 |     0.3400 |     0.9107 |     0.8930\n",
      "  800 |   0.019996 |     0.3350 |     0.9120 |     0.8949\n",
      "  850 |   0.019394 |     0.3299 |     0.9133 |     0.8967\n",
      "  900 |   0.018811 |     0.3250 |     0.9146 |     0.8984\n",
      "  950 |   0.018245 |     0.3201 |     0.9159 |     0.9000\n",
      " 1000 |   0.017697 |     0.3152 |     0.9171 |     0.9016\n"
     ]
    }
   ],
   "source": [
    "x_data = [[1.,1.,1.,1.,1.],\n",
    "          [1.,0.,3.,0.,5.],\n",
    "          [0.,2.,0.,4.,0.]]\n",
    "y_data = [1,2,3,4,5]\n",
    "\n",
    "W = tf.Variable(tf.random.uniform((1,3), -1.0, 1.0))\n",
    "learning_rate = 0.001\n",
    "optimizer = tf.keras.optimizers.SGD(learning_rate)\n",
    "\n",
    "for i in range(1000+1):\n",
    "    with tf.GradientTape() as tape:\n",
    "        hypothesis = tf.matmul(W, x_data)\n",
    "        cost = tf.reduce_mean(tf.square(hypothesis-y_data))\n",
    "        \n",
    "    grads = tape.gradient(cost,[W])\n",
    "    optimizer.apply_gradients(grads_and_vars=zip(grads,[W]))\n",
    "    \n",
    "    if i % 50 == 0:\n",
    "        print(\"{:5} | {:10.6f} | {:10.4f} | {:10.4f} | {:10.4f}\".format(\n",
    "            i, cost.numpy(), W.numpy()[0][0], W.numpy()[0][1], W.numpy()[0][2]))"
   ]
  },
  {
   "cell_type": "markdown",
   "metadata": {},
   "source": [
    "# Custom Gradient"
   ]
  },
  {
   "cell_type": "code",
   "execution_count": 21,
   "metadata": {},
   "outputs": [
    {
     "name": "stdout",
     "output_type": "stream",
     "text": [
      "Epoch | cost\n",
      "    0 |  46.622746\n",
      "   50 |   0.727939\n",
      "  100 |   0.497699\n",
      "  150 |   0.340281\n",
      "  200 |   0.232653\n",
      "  250 |   0.159067\n",
      "  300 |   0.108756\n",
      "  350 |   0.074357\n",
      "  400 |   0.050839\n",
      "  450 |   0.034759\n",
      "  500 |   0.023765\n",
      "  550 |   0.016248\n",
      "  600 |   0.011109\n",
      "  650 |   0.007595\n",
      "  700 |   0.005193\n",
      "  750 |   0.003551\n",
      "  800 |   0.002428\n",
      "  850 |   0.001660\n",
      "  900 |   0.001135\n",
      "  950 |   0.000776\n",
      " 1000 |   0.000530\n"
     ]
    }
   ],
   "source": [
    "X = tf.constant([[1.,2.],\n",
    "                 [3.,4.]])\n",
    "Y = tf.constant([[1.5], [3.5]])\n",
    "\n",
    "W = tf.Variable(tf.random.normal((2,1)))\n",
    "b = tf.Variable(tf.random.normal((1,)))\n",
    "\n",
    "optimizer = tf.keras.optimizers.SGD(learning_rate=0.01)\n",
    "n_epochs = 1000+1\n",
    "print(\"Epoch | cost\")\n",
    "for i in range(n_epochs):\n",
    "    with tf.GradientTape() as tape:\n",
    "        y_pred = tf.matmul(X,W) + b\n",
    "        cost = tf.reduce_mean(tf.square(y_pred-Y))\n",
    "        \n",
    "    grads = tape.gradient(cost,[W,b])\n",
    "    \n",
    "    optimizer.apply_gradients(grads_and_vars=zip(grads,[W,b]))\n",
    "    \n",
    "    if i % 50 == 0:\n",
    "        print(\"{:5} | {:10.6f}\".format(i, cost.numpy()))"
   ]
  },
  {
   "cell_type": "markdown",
   "metadata": {},
   "source": [
    "\n",
    "# Predicting exam score"
   ]
  },
  {
   "cell_type": "code",
   "execution_count": 23,
   "metadata": {},
   "outputs": [
    {
     "name": "stdout",
     "output_type": "stream",
     "text": [
      "    0 | 5693289.5000\n",
      "   50 |   68107.7344\n",
      "  100 |     828.8473\n",
      "  150 |      24.1404\n",
      "  200 |      14.4862\n",
      "  250 |      14.3413\n",
      "  300 |      14.3101\n",
      "  350 |      14.2803\n",
      "  400 |      14.2507\n",
      "  450 |      14.2212\n",
      "  500 |      14.1917\n",
      "  550 |      14.1623\n",
      "  600 |      14.1331\n",
      "  650 |      14.1039\n",
      "  700 |      14.0747\n",
      "  750 |      14.0457\n",
      "  800 |      14.0167\n",
      "  850 |      13.9878\n",
      "  900 |      13.9589\n",
      "  950 |      13.9302\n",
      " 1000 |      13.9015\n"
     ]
    }
   ],
   "source": [
    "x1 = [73., 93., 89., 96., 73.]\n",
    "x2 = [80., 88., 91., 98., 66.]\n",
    "x3 = [75., 83., 90., 100., 70.]\n",
    "Y = [152., 185., 180., 196., 142.]\n",
    "\n",
    "w1 = tf.Variable(10.)\n",
    "w2 = tf.Variable(10.)\n",
    "w3 = tf.Variable(10.)\n",
    "b = tf.Variable(10.)\n",
    "\n",
    "learning_rate = 0.000001\n",
    "\n",
    "for i in range(1000+1):\n",
    "    with tf.GradientTape() as tape:\n",
    "        hypothesis = w1*x1 + w2*x2 + w3*x3 + b\n",
    "        cost = tf.reduce_mean(tf.square(hypothesis-Y))\n",
    "        \n",
    "    w1_grad,w2_grad,w3_grad,b_grad = tape.gradient(cost,[w1,w2,w3,b])\n",
    "    \n",
    "    w1.assign_sub(learning_rate*w1_grad)\n",
    "    w2.assign_sub(learning_rate*w2_grad)\n",
    "    w3.assign_sub(learning_rate*w3_grad)\n",
    "    b.assign_sub(learning_rate*b_grad)\n",
    "    \n",
    "    \n",
    "    if i % 50 == 0:\n",
    "        print(\"{:5} | {:12.4f}\".format(i, cost.numpy()))"
   ]
  },
  {
   "cell_type": "markdown",
   "metadata": {},
   "source": [
    "## Matrix 사용"
   ]
  },
  {
   "cell_type": "code",
   "execution_count": 29,
   "metadata": {},
   "outputs": [
    {
     "name": "stdout",
     "output_type": "stream",
     "text": [
      "Epoch | cost\n",
      "    0 |  6573.8047\n",
      "  100 |    42.8227\n",
      "  200 |    41.7962\n",
      "  300 |    41.5749\n",
      "  400 |    41.3549\n",
      "  500 |    41.1361\n",
      "  600 |    40.9186\n",
      "  700 |    40.7021\n",
      "  800 |    40.4868\n",
      "  900 |    40.2728\n",
      " 1000 |    40.0598\n",
      " 1100 |    39.8480\n",
      " 1200 |    39.6373\n",
      " 1300 |    39.4278\n",
      " 1400 |    39.2194\n",
      " 1500 |    39.0122\n",
      " 1600 |    38.8061\n",
      " 1700 |    38.6010\n",
      " 1800 |    38.3972\n",
      " 1900 |    38.1943\n",
      " 2000 |    37.9927\n"
     ]
    }
   ],
   "source": [
    "data = np.array([[73., 80.,75., 152.],\n",
    "                 [93., 88., 93., 185.],\n",
    "                 [89., 91., 90., 180.],\n",
    "                 [96., 98., 100., 196.],\n",
    "                 [73., 66., 70., 142.]],dtype=np.float32)\n",
    "\n",
    "X = data[:,:-1]\n",
    "Y = data[:,[-1]]\n",
    "\n",
    "W = tf.Variable(tf.random.normal((3,1)))\n",
    "b = tf.Variable(tf.random.normal((1,)))\n",
    "\n",
    "learning_rate = 0.000001\n",
    "\n",
    "def predict(X):\n",
    "    return tf.matmul(X,W) + b\n",
    "print(\"Epoch | cost\")\n",
    "\n",
    "n_epochs = 2000\n",
    "\n",
    "for i in range(n_epochs + 1):\n",
    "    with tf.GradientTape() as tape:\n",
    "        cost = tf.reduce_mean(tf.square(predict(X) - Y))\n",
    "        \n",
    "    W_grad, b_grad = tape.gradient(cost,[W,b])\n",
    "    \n",
    "    W.assign_sub(learning_rate * W_grad)\n",
    "    b.assign_sub(learning_rate * b_grad)\n",
    "    \n",
    "    if i % 100 == 0:\n",
    "        print(\"{:5} | {:10.4f}\".format(i, cost.numpy()))"
   ]
  },
  {
   "cell_type": "code",
   "execution_count": 30,
   "metadata": {},
   "outputs": [
    {
     "data": {
      "text/plain": [
       "array([[-0.36475807],\n",
       "       [ 1.601843  ],\n",
       "       [ 0.7778937 ]], dtype=float32)"
      ]
     },
     "execution_count": 30,
     "metadata": {},
     "output_type": "execute_result"
    }
   ],
   "source": [
    "W.numpy()"
   ]
  },
  {
   "cell_type": "code",
   "execution_count": 31,
   "metadata": {},
   "outputs": [
    {
     "data": {
      "text/plain": [
       "array([-0.38048247], dtype=float32)"
      ]
     },
     "execution_count": 31,
     "metadata": {},
     "output_type": "execute_result"
    }
   ],
   "source": [
    "b.numpy()"
   ]
  },
  {
   "cell_type": "code",
   "execution_count": 32,
   "metadata": {},
   "outputs": [
    {
     "data": {
      "text/plain": [
       "<tf.Tensor: id=344360, shape=(5, 1), dtype=float32, numpy=\n",
       "array([[159.48166],\n",
       "       [179.00333],\n",
       "       [182.9342 ],\n",
       "       [199.37274],\n",
       "       [133.16638]], dtype=float32)>"
      ]
     },
     "execution_count": 32,
     "metadata": {},
     "output_type": "execute_result"
    }
   ],
   "source": [
    "tf.matmul(X,W) + b"
   ]
  },
  {
   "cell_type": "code",
   "execution_count": 33,
   "metadata": {},
   "outputs": [
    {
     "data": {
      "text/plain": [
       "array([[152.],\n",
       "       [185.],\n",
       "       [180.],\n",
       "       [196.],\n",
       "       [142.]], dtype=float32)"
      ]
     },
     "execution_count": 33,
     "metadata": {},
     "output_type": "execute_result"
    }
   ],
   "source": [
    "Y"
   ]
  },
  {
   "cell_type": "code",
   "execution_count": 34,
   "metadata": {},
   "outputs": [
    {
     "data": {
      "text/plain": [
       "array([[159.48166],\n",
       "       [179.00333],\n",
       "       [182.9342 ],\n",
       "       [199.37274],\n",
       "       [133.16638]], dtype=float32)"
      ]
     },
     "execution_count": 34,
     "metadata": {},
     "output_type": "execute_result"
    }
   ],
   "source": [
    "predict(X).numpy()"
   ]
  },
  {
   "cell_type": "code",
   "execution_count": null,
   "metadata": {},
   "outputs": [],
   "source": []
  }
 ],
 "metadata": {
  "kernelspec": {
   "display_name": "Python 3",
   "language": "python",
   "name": "python3"
  },
  "language_info": {
   "codemirror_mode": {
    "name": "ipython",
    "version": 3
   },
   "file_extension": ".py",
   "mimetype": "text/x-python",
   "name": "python",
   "nbconvert_exporter": "python",
   "pygments_lexer": "ipython3",
   "version": "3.7.4"
  }
 },
 "nbformat": 4,
 "nbformat_minor": 2
}
