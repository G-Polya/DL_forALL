{
 "cells": [
  {
   "cell_type": "code",
   "execution_count": 1,
   "metadata": {},
   "outputs": [
    {
     "name": "stdout",
     "output_type": "stream",
     "text": [
      "2.0.0\n"
     ]
    }
   ],
   "source": [
    "import tensorflow as tf\n",
    "import numpy as np\n",
    "\n",
    "print(tf.__version__)\n",
    "tf.random.set_seed(777)"
   ]
  },
  {
   "cell_type": "code",
   "execution_count": 8,
   "metadata": {},
   "outputs": [
    {
     "name": "stdout",
     "output_type": "stream",
     "text": [
      "(101, 16) (101, 7)\n"
     ]
    }
   ],
   "source": [
    "xy = np.loadtxt(\"data-04-zoo.csv\", delimiter=\",\", dtype=np.float32)\n",
    "x_data = xy[:,0:-1]\n",
    "y_data = xy[:,[-1]]\n",
    "\n",
    "nb_classes = 7\n",
    "Y_one_hot = tf.one_hot(y_data.astype(np.int32), nb_classes)\n",
    "Y_one_hot = tf.reshape(Y_one_hot, [-1,nb_classes])\n",
    "\n",
    "print(x_data.shape, Y_one_hot.shape)"
   ]
  },
  {
   "cell_type": "code",
   "execution_count": 14,
   "metadata": {},
   "outputs": [],
   "source": [
    "W = tf.Variable(tf.random.normal((16,nb_classes)), name=\"weight\")\n",
    "b = tf.Variable(tf.random.normal((nb_classes,)), name=\"bias\")\n",
    "variables = [W,b]\n",
    "\n",
    "def logits_fn(X):\n",
    "    return tf.matmul(X,W) + b\n",
    "\n",
    "def hypothesis(X):\n",
    "    return tf.nn.softmax(logits_fn(X))\n",
    "\n",
    "def cost_fn(X,Y):\n",
    "    logits = logits_fn(X)\n",
    "    cost_i = tf.keras.losses.categorical_crossentropy(y_true=Y, y_pred=logits,from_logits=True)\n",
    "    \n",
    "    cost = tf.reduce_mean(cost_i)\n",
    "    return cost\n",
    "\n",
    "def grad_fn(X,Y):\n",
    "    with tf.GradientTape() as tape:\n",
    "        loss = cost_fn(X,Y)\n",
    "        grads = tape.gradient(loss,variables)\n",
    "        return grads\n",
    "    \n",
    "def prediction(X,Y):\n",
    "    pred = tf.argmax(hypothesis(X),1)\n",
    "    correct_prediction = tf.equal(pred, tf.argmax(Y,1))\n",
    "    accuracy = tf.reduce_mean(tf.cast(correct_prediction, tf.float32))\n",
    "    \n",
    "    return accuracy\n",
    "    "
   ]
  },
  {
   "cell_type": "code",
   "execution_count": 15,
   "metadata": {},
   "outputs": [
    {
     "name": "stdout",
     "output_type": "stream",
     "text": [
      "Steps: 1 Loss: 6.631802558898926, Acc: 0.10891088843345642\n",
      "Steps: 100 Loss: 0.572661817073822, Acc: 0.8514851331710815\n",
      "Steps: 200 Loss: 0.3897223174571991, Acc: 0.9009901285171509\n",
      "Steps: 300 Loss: 0.3014775812625885, Acc: 0.9108911156654358\n",
      "Steps: 400 Loss: 0.24435144662857056, Acc: 0.9306930899620056\n",
      "Steps: 500 Loss: 0.20434372127056122, Acc: 0.9405940771102905\n",
      "Steps: 600 Loss: 0.17501819133758545, Acc: 0.9702970385551453\n",
      "Steps: 700 Loss: 0.1527751386165619, Acc: 0.9900990128517151\n",
      "Steps: 800 Loss: 0.13542765378952026, Acc: 0.9900990128517151\n",
      "Steps: 900 Loss: 0.12156669795513153, Acc: 0.9900990128517151\n",
      "Steps: 1000 Loss: 0.11025162786245346, Acc: 0.9900990128517151\n"
     ]
    }
   ],
   "source": [
    "def fit(X,Y, epochs=1000, verbose=100):\n",
    "    optimizer = tf.keras.optimizers.SGD(learning_rate=0.1)\n",
    "    \n",
    "    for i in range(epochs):\n",
    "        grads = grad_fn(X,Y)\n",
    "        optimizer.apply_gradients(zip(grads, variables))\n",
    "        if(i==0) | ((i+1)%verbose == 0):\n",
    "            acc = prediction(X,Y).numpy()\n",
    "            loss = cost_fn(X,Y).numpy()\n",
    "            print('Steps: {} Loss: {}, Acc: {}'.format(i+1, loss, acc))\n",
    "            \n",
    "fit(x_data,Y_one_hot)\n",
    "            "
   ]
  },
  {
   "cell_type": "code",
   "execution_count": null,
   "metadata": {},
   "outputs": [],
   "source": []
  }
 ],
 "metadata": {
  "kernelspec": {
   "display_name": "Python 3",
   "language": "python",
   "name": "python3"
  },
  "language_info": {
   "codemirror_mode": {
    "name": "ipython",
    "version": 3
   },
   "file_extension": ".py",
   "mimetype": "text/x-python",
   "name": "python",
   "nbconvert_exporter": "python",
   "pygments_lexer": "ipython3",
   "version": "3.7.4"
  }
 },
 "nbformat": 4,
 "nbformat_minor": 2
}
