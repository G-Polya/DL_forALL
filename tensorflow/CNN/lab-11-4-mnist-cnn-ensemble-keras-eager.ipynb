{
 "cells": [
  {
   "cell_type": "code",
   "execution_count": 1,
   "metadata": {},
   "outputs": [],
   "source": [
    "from __future__ import absolute_import\n",
    "from __future__ import division\n",
    "from __future__ import print_function"
   ]
  },
  {
   "cell_type": "markdown",
   "metadata": {},
   "source": [
    "# Import Libraries"
   ]
  },
  {
   "cell_type": "code",
   "execution_count": 2,
   "metadata": {},
   "outputs": [
    {
     "name": "stdout",
     "output_type": "stream",
     "text": [
      "2.1.0\n",
      "2.2.4-tf\n"
     ]
    }
   ],
   "source": [
    "import tensorflow as tf\n",
    "from tensorflow import keras\n",
    "from tensorflow.keras.utils import to_categorical\n",
    "import numpy as np\n",
    "import matplotlib.pyplot as plt\n",
    "import os\n",
    "\n",
    "print(tf.__version__)\n",
    "print(keras.__version__)"
   ]
  },
  {
   "cell_type": "markdown",
   "metadata": {},
   "source": [
    "# Hyper Parameters"
   ]
  },
  {
   "cell_type": "code",
   "execution_count": 3,
   "metadata": {},
   "outputs": [],
   "source": [
    "learning_rate = 0.001\n",
    "training_epochs = 15\n",
    "batch_size = 100\n",
    "\n",
    "tf.random.set_seed(777)"
   ]
  },
  {
   "cell_type": "markdown",
   "metadata": {},
   "source": [
    "# Creating a Checkpoint Directory"
   ]
  },
  {
   "cell_type": "code",
   "execution_count": 4,
   "metadata": {},
   "outputs": [],
   "source": [
    "cur_dir = os.getcwd()\n",
    "ckpt_dir_name = 'checkpoints'\n",
    "model_dir_name = 'mnist_cnn_ensemble'\n",
    "\n",
    "checkpoint_dir = os.path.join(cur_dir, ckpt_dir_name, model_dir_name)\n",
    "os.makedirs(checkpoint_dir, exist_ok=True)\n",
    "\n",
    "checkpoint_prefix = os.path.join(checkpoint_dir, model_dir_name)"
   ]
  },
  {
   "cell_type": "markdown",
   "metadata": {},
   "source": [
    "# MNIST / Fashion MNIST Data"
   ]
  },
  {
   "cell_type": "code",
   "execution_count": 5,
   "metadata": {},
   "outputs": [],
   "source": [
    "## MNIST Dataset #########################################################\n",
    "mnist = keras.datasets.mnist\n",
    "class_names = ['0', '1', '2', '3', '4', '5', '6', '7', '8', '9']\n",
    "##########################################################################\n",
    "\n",
    "## Fashion MNIST Dataset #################################################\n",
    "#mnist = keras.datasets.fashion_mnist\n",
    "#class_names = ['T-shirt/top', 'Trouser', 'Pullover', 'Dress', 'Coat', 'Sandal', 'Shirt', 'Sneaker', 'Bag', 'Ankle boot']"
   ]
  },
  {
   "cell_type": "markdown",
   "metadata": {},
   "source": [
    "# Datasets"
   ]
  },
  {
   "cell_type": "code",
   "execution_count": 6,
   "metadata": {},
   "outputs": [],
   "source": [
    "(train_images, train_labels), (test_images, test_labels) = mnist.load_data()\n",
    "\n",
    "train_images = train_images.astype(np.float32) / 255.0\n",
    "test_images = test_images.astype(np.float32)/ 255.0\n",
    "train_images = np.expand_dims(train_images, axis=-1) # (60000, 28, 28) >> (60000, 28, 28, 1)\n",
    "test_images = np.expand_dims(test_images,axis=-1)    # (10000, 28, 28) >> (10000, 28, 28, 1)\n",
    "\n",
    "train_labels = to_categorical(train_labels, 10)\n",
    "test_labels = to_categorical(test_labels, 10)\n",
    "\n",
    "train_dataset = tf.data.Dataset.from_tensor_slices((train_images, train_labels)).shuffle(buffer_size=100000).batch(batch_size)\n",
    "test_dataset = tf.data.Dataset.from_tensor_slices((test_images,test_labels)).batch(batch_size)"
   ]
  },
  {
   "cell_type": "markdown",
   "metadata": {},
   "source": [
    "# Model class( functinal API )"
   ]
  },
  {
   "cell_type": "code",
   "execution_count": 7,
   "metadata": {},
   "outputs": [],
   "source": [
    "class MNISTModel(tf.keras.Model):\n",
    "    def __init__(self):\n",
    "        super(MNISTModel, self).__init__()\n",
    "        self.conv1 = keras.layers.Conv2D(filters=32, kernel_size=3, padding='SAME', activation=tf.nn.relu)\n",
    "        self.pool1 = keras.layers.MaxPool2D(padding='SAME')\n",
    "        self.conv2 = keras.layers.Conv2D(filters=64, kernel_size=3, padding='SAME', activation=tf.nn.relu)\n",
    "        self.pool2 = keras.layers.MaxPool2D(padding='SAME')\n",
    "        self.conv3 = keras.layers.Conv2D(filters=128, kernel_size=3, padding='SAME', activation=tf.nn.relu)\n",
    "        self.pool3 = keras.layers.MaxPool2D(padding='SAME')\n",
    "        self.pool3_flat = keras.layers.Flatten()\n",
    "        self.dense4 = keras.layers.Dense(units=256, activation=tf.nn.relu)\n",
    "        self.drop4 = keras.layers.Dropout(rate=0.4)\n",
    "        self.dense5 = keras.layers.Dense(units=10)\n",
    "        \n",
    "    def call(self, inputs, training=False):\n",
    "        net = self.conv1(inputs)\n",
    "        net = self.pool1(net)\n",
    "        net = self.conv2(net)\n",
    "        net = self.pool2(net)\n",
    "        net = self.conv3(net)\n",
    "        net = self.pool3(net)\n",
    "        net = self.pool3_flat(net)\n",
    "        net = self.dense4(net)\n",
    "        net = self.drop4(net)\n",
    "        net = self.dense5(net)\n",
    "        return net"
   ]
  },
  {
   "cell_type": "code",
   "execution_count": 8,
   "metadata": {
    "scrolled": true
   },
   "outputs": [],
   "source": [
    "models = []\n",
    "num_models = 3\n",
    "for m in range(num_models):\n",
    "    models.append(MNISTModel())"
   ]
  },
  {
   "cell_type": "markdown",
   "metadata": {},
   "source": [
    "# Loss Funtcion"
   ]
  },
  {
   "cell_type": "code",
   "execution_count": 26,
   "metadata": {},
   "outputs": [],
   "source": [
    "def loss_fn(model, images, labels):\n",
    "    logits = model(images, training=True)\n",
    "    loss = tf.reduce_mean(tf.keras.losses.categorical_crossentropy(y_pred=logits, y_true=labels,from_logits=True))\n",
    "    return loss"
   ]
  },
  {
   "cell_type": "markdown",
   "metadata": {},
   "source": [
    "# Calculating Gradient"
   ]
  },
  {
   "cell_type": "code",
   "execution_count": 27,
   "metadata": {},
   "outputs": [],
   "source": [
    "def grad(model, images, labels):\n",
    "    with tf.GradientTape() as tape:\n",
    "        loss = loss_fn(model, images, labels)\n",
    "    return tape.gradient(loss, model.variables)"
   ]
  },
  {
   "cell_type": "markdown",
   "metadata": {},
   "source": [
    "# Calculating model's Accuracy"
   ]
  },
  {
   "cell_type": "code",
   "execution_count": 36,
   "metadata": {},
   "outputs": [],
   "source": [
    "def evaluate(models, images, labels):\n",
    "    predictions = np.zeros_like(labels)\n",
    "    for model in models:\n",
    "        logits = model(images, training=False)\n",
    "        predictions += logits\n",
    "    correct_prediction = tf.equal(tf.argmax(predictions,1), tf.argmax(labels,1))\n",
    "    accuracy = tf.reduce_mean(tf.cast(correct_prediction, tf.float32))\n",
    "    return accuracy"
   ]
  },
  {
   "cell_type": "markdown",
   "metadata": {},
   "source": [
    "# Optimizer"
   ]
  },
  {
   "cell_type": "code",
   "execution_count": 37,
   "metadata": {},
   "outputs": [],
   "source": [
    "optimizer = tf.keras.optimizers.Adam(learning_rate=learning_rate)"
   ]
  },
  {
   "cell_type": "markdown",
   "metadata": {},
   "source": [
    "# Creating a Checkpoint"
   ]
  },
  {
   "cell_type": "code",
   "execution_count": 38,
   "metadata": {},
   "outputs": [],
   "source": [
    "checkpoints = []\n",
    "for m in range(num_models):\n",
    "    checkpoints.append(tf.train.Checkpoint(cnn=models[m]))"
   ]
  },
  {
   "cell_type": "markdown",
   "metadata": {},
   "source": [
    "# Training"
   ]
  },
  {
   "cell_type": "code",
   "execution_count": 39,
   "metadata": {},
   "outputs": [
    {
     "name": "stdout",
     "output_type": "stream",
     "text": [
      "Learning started. It takes sometime.\n",
      "Epoch: 1 loss = 0.14861992 train accuracy =  0.9688 test accuracy =  0.9882\n",
      "Epoch: 2 loss = 0.03911032 train accuracy =  0.9930 test accuracy =  0.9917\n",
      "Epoch: 3 loss = 0.02666169 train accuracy =  0.9956 test accuracy =  0.9930\n",
      "Epoch: 4 loss = 0.01924729 train accuracy =  0.9972 test accuracy =  0.9923\n",
      "Epoch: 5 loss = 0.01526129 train accuracy =  0.9982 test accuracy =  0.9938\n",
      "Epoch: 6 loss = 0.01158979 train accuracy =  0.9989 test accuracy =  0.9951\n",
      "Epoch: 7 loss = 0.00973556 train accuracy =  0.9993 test accuracy =  0.9952\n",
      "Epoch: 8 loss = 0.00871760 train accuracy =  0.9993 test accuracy =  0.9942\n",
      "Epoch: 9 loss = 0.00756711 train accuracy =  0.9996 test accuracy =  0.9951\n",
      "Epoch: 10 loss = 0.00675362 train accuracy =  0.9996 test accuracy =  0.9949\n",
      "Epoch: 11 loss = 0.00520818 train accuracy =  0.9998 test accuracy =  0.9948\n",
      "Epoch: 12 loss = 0.00489893 train accuracy =  0.9998 test accuracy =  0.9954\n",
      "Epoch: 13 loss = 0.00501228 train accuracy =  0.9998 test accuracy =  0.9941\n",
      "Epoch: 14 loss = 0.00432896 train accuracy =  0.9999 test accuracy =  0.9952\n",
      "Epoch: 15 loss = 0.00422981 train accuracy =  0.9998 test accuracy =  0.9954\n",
      "Learning Finished!\n"
     ]
    }
   ],
   "source": [
    "print('Learning started. It takes sometime.')\n",
    "for epoch in range(training_epochs):\n",
    "    avg_loss = 0.\n",
    "    avg_train_acc = 0.\n",
    "    avg_test_acc = 0.\n",
    "    train_step = 0\n",
    "    test_step = 0    \n",
    "    \n",
    "    for images, labels in train_dataset:\n",
    "        for model in models:\n",
    "            #train(model, images, labels)\n",
    "            grads = grad(model, images, labels)                \n",
    "            optimizer.apply_gradients(zip(grads, model.variables))\n",
    "            loss = loss_fn(model, images, labels)\n",
    "            avg_loss += loss / num_models\n",
    "        acc = evaluate(models, images, labels)\n",
    "        avg_train_acc += acc\n",
    "        train_step += 1\n",
    "    avg_loss = avg_loss / train_step\n",
    "    avg_train_acc = avg_train_acc / train_step\n",
    "    \n",
    "    for images, labels in test_dataset:        \n",
    "        acc = evaluate(models, images, labels)        \n",
    "        avg_test_acc += acc\n",
    "        test_step += 1    \n",
    "    avg_test_acc = avg_test_acc / test_step    \n",
    "\n",
    "    print('Epoch:', '{}'.format(epoch + 1), 'loss =', '{:.8f}'.format(avg_loss), \n",
    "          'train accuracy = ', '{:.4f}'.format(avg_train_acc), \n",
    "          'test accuracy = ', '{:.4f}'.format(avg_test_acc))\n",
    "    \n",
    "    \n",
    "    for idx, checkpoint in enumerate(checkpoints):\n",
    "        checkpoint.save(file_prefix=checkpoint_prefix+'-{}'.format(idx))\n",
    "\n",
    "print('Learning Finished!')"
   ]
  },
  {
   "cell_type": "code",
   "execution_count": null,
   "metadata": {},
   "outputs": [],
   "source": []
  },
  {
   "cell_type": "code",
   "execution_count": null,
   "metadata": {},
   "outputs": [],
   "source": []
  },
  {
   "cell_type": "code",
   "execution_count": null,
   "metadata": {},
   "outputs": [],
   "source": []
  }
 ],
 "metadata": {
  "kernelspec": {
   "display_name": "Python 3",
   "language": "python",
   "name": "python3"
  },
  "language_info": {
   "codemirror_mode": {
    "name": "ipython",
    "version": 3
   },
   "file_extension": ".py",
   "mimetype": "text/x-python",
   "name": "python",
   "nbconvert_exporter": "python",
   "pygments_lexer": "ipython3",
   "version": "3.7.6"
  }
 },
 "nbformat": 4,
 "nbformat_minor": 4
}
