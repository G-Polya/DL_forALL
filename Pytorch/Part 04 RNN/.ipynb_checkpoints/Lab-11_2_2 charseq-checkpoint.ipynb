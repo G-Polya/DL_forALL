{
 "cells": [
  {
   "cell_type": "code",
   "execution_count": 1,
   "metadata": {},
   "outputs": [],
   "source": [
    "import torch\n",
    "import torch.optim as optim\n",
    "import numpy as np"
   ]
  },
  {
   "cell_type": "code",
   "execution_count": 2,
   "metadata": {},
   "outputs": [],
   "source": [
    "sample = \" if you want you\""
   ]
  },
  {
   "cell_type": "code",
   "execution_count": 3,
   "metadata": {},
   "outputs": [
    {
     "name": "stdout",
     "output_type": "stream",
     "text": [
      "{'i': 0, 'o': 1, ' ': 2, 't': 3, 'u': 4, 'f': 5, 'n': 6, 'a': 7, 'w': 8, 'y': 9}\n"
     ]
    }
   ],
   "source": [
    "char_set = list(set(sample))\n",
    "char_dic = {c: i for i,c in enumerate(char_set)}\n",
    "print(char_dic)"
   ]
  },
  {
   "cell_type": "code",
   "execution_count": 4,
   "metadata": {},
   "outputs": [],
   "source": [
    "dic_size = len(char_dic)\n",
    "hidden_size = len(char_dic)\n",
    "learning_rate = 0.1"
   ]
  },
  {
   "cell_type": "code",
   "execution_count": 5,
   "metadata": {},
   "outputs": [],
   "source": [
    "sample_idx = [char_dic[c] for c in sample]\n",
    "x_data = [sample_idx[:-1]]\n",
    "x_one_hot = [np.eye(dic_size)[x] for x in x_data]\n",
    "y_data = [sample_idx[1:]]"
   ]
  },
  {
   "cell_type": "code",
   "execution_count": 6,
   "metadata": {},
   "outputs": [],
   "source": [
    "X = torch.FloatTensor(x_one_hot)\n",
    "Y = torch.LongTensor(y_data)"
   ]
  },
  {
   "cell_type": "code",
   "execution_count": 7,
   "metadata": {},
   "outputs": [],
   "source": [
    "rnn = torch.nn.RNN(dic_size, hidden_size,batch_first=True)"
   ]
  },
  {
   "cell_type": "code",
   "execution_count": 8,
   "metadata": {},
   "outputs": [],
   "source": [
    "criterion = torch.nn.CrossEntropyLoss()\n",
    "optimizer = optim.Adam(rnn.parameters(), lr=learning_rate)"
   ]
  },
  {
   "cell_type": "code",
   "execution_count": 10,
   "metadata": {},
   "outputs": [
    {
     "name": "stdout",
     "output_type": "stream",
     "text": [
      "0 loss:  2.407867670059204 prediction:  [[3 8 9 3 8 3 3 9 8 9 8 3 3 8 3]] true Y:  [[0, 5, 2, 9, 1, 4, 2, 8, 7, 6, 3, 2, 9, 1, 4]] prediction str:  twytwttywywttwt\n",
      "1 loss:  2.0802125930786133 prediction:  [[9 2 4 9 2 4 4 9 4 9 3 2 9 9 4]] true Y:  [[0, 5, 2, 9, 1, 4, 2, 8, 7, 6, 3, 2, 9, 1, 4]] prediction str:  y uy uuyuyt yyu\n",
      "2 loss:  1.8365310430526733 prediction:  [[9 1 2 9 1 4 2 2 2 2 1 2 9 1 4]] true Y:  [[0, 5, 2, 9, 1, 4, 2, 8, 7, 6, 3, 2, 9, 1, 4]] prediction str:  yo you    o you\n",
      "3 loss:  1.6524368524551392 prediction:  [[9 1 2 9 1 4 2 1 5 2 1 2 9 1 4]] true Y:  [[0, 5, 2, 9, 1, 4, 2, 8, 7, 6, 3, 2, 9, 1, 4]] prediction str:  yo you of o you\n",
      "4 loss:  1.5431309938430786 prediction:  [[9 1 2 9 1 4 2 9 1 2 3 2 9 1 4]] true Y:  [[0, 5, 2, 9, 1, 4, 2, 8, 7, 6, 3, 2, 9, 1, 4]] prediction str:  yo you yo t you\n",
      "5 loss:  1.4599565267562866 prediction:  [[9 1 2 9 1 4 2 9 1 2 3 2 9 1 4]] true Y:  [[0, 5, 2, 9, 1, 4, 2, 8, 7, 6, 3, 2, 9, 1, 4]] prediction str:  yo you yo t you\n",
      "6 loss:  1.3685057163238525 prediction:  [[9 1 2 9 1 4 2 8 7 2 3 2 9 1 4]] true Y:  [[0, 5, 2, 9, 1, 4, 2, 8, 7, 6, 3, 2, 9, 1, 4]] prediction str:  yo you wa t you\n",
      "7 loss:  1.291030764579773 prediction:  [[9 5 2 9 1 4 2 2 7 2 3 2 9 1 4]] true Y:  [[0, 5, 2, 9, 1, 4, 2, 8, 7, 6, 3, 2, 9, 1, 4]] prediction str:  yf you  a t you\n",
      "8 loss:  1.2287333011627197 prediction:  [[9 5 2 9 1 4 2 8 7 2 3 2 9 1 4]] true Y:  [[0, 5, 2, 9, 1, 4, 2, 8, 7, 6, 3, 2, 9, 1, 4]] prediction str:  yf you wa t you\n",
      "9 loss:  1.167052149772644 prediction:  [[9 5 2 9 1 4 2 8 7 2 3 2 9 7 4]] true Y:  [[0, 5, 2, 9, 1, 4, 2, 8, 7, 6, 3, 2, 9, 1, 4]] prediction str:  yf you wa t yau\n",
      "10 loss:  1.1157233715057373 prediction:  [[0 5 2 9 1 4 2 8 7 2 3 2 9 1 4]] true Y:  [[0, 5, 2, 9, 1, 4, 2, 8, 7, 6, 3, 2, 9, 1, 4]] prediction str:  if you wa t you\n",
      "11 loss:  1.081146240234375 prediction:  [[0 5 2 9 1 4 2 8 7 6 3 2 9 1 4]] true Y:  [[0, 5, 2, 9, 1, 4, 2, 8, 7, 6, 3, 2, 9, 1, 4]] prediction str:  if you want you\n",
      "12 loss:  1.0503361225128174 prediction:  [[0 5 2 9 1 4 2 8 7 6 3 2 9 1 4]] true Y:  [[0, 5, 2, 9, 1, 4, 2, 8, 7, 6, 3, 2, 9, 1, 4]] prediction str:  if you want you\n",
      "13 loss:  1.0219262838363647 prediction:  [[0 5 2 9 1 4 2 8 7 6 3 2 9 1 4]] true Y:  [[0, 5, 2, 9, 1, 4, 2, 8, 7, 6, 3, 2, 9, 1, 4]] prediction str:  if you want you\n",
      "14 loss:  0.9985931515693665 prediction:  [[0 5 2 9 1 4 2 8 7 6 3 2 9 1 4]] true Y:  [[0, 5, 2, 9, 1, 4, 2, 8, 7, 6, 3, 2, 9, 1, 4]] prediction str:  if you want you\n",
      "15 loss:  0.9809255003929138 prediction:  [[0 5 2 9 1 4 2 8 7 6 3 2 9 1 4]] true Y:  [[0, 5, 2, 9, 1, 4, 2, 8, 7, 6, 3, 2, 9, 1, 4]] prediction str:  if you want you\n",
      "16 loss:  0.9668776392936707 prediction:  [[0 5 2 9 1 4 2 8 7 6 3 2 9 1 4]] true Y:  [[0, 5, 2, 9, 1, 4, 2, 8, 7, 6, 3, 2, 9, 1, 4]] prediction str:  if you want you\n",
      "17 loss:  0.951248049736023 prediction:  [[0 5 2 9 1 4 2 8 7 6 3 2 9 1 4]] true Y:  [[0, 5, 2, 9, 1, 4, 2, 8, 7, 6, 3, 2, 9, 1, 4]] prediction str:  if you want you\n",
      "18 loss:  0.9339339137077332 prediction:  [[0 5 2 9 1 4 2 8 7 6 3 2 9 1 4]] true Y:  [[0, 5, 2, 9, 1, 4, 2, 8, 7, 6, 3, 2, 9, 1, 4]] prediction str:  if you want you\n",
      "19 loss:  0.9217415452003479 prediction:  [[0 5 2 9 1 4 2 8 7 6 3 2 9 1 4]] true Y:  [[0, 5, 2, 9, 1, 4, 2, 8, 7, 6, 3, 2, 9, 1, 4]] prediction str:  if you want you\n",
      "20 loss:  0.9096717834472656 prediction:  [[0 5 2 9 1 4 2 8 7 6 3 2 9 1 4]] true Y:  [[0, 5, 2, 9, 1, 4, 2, 8, 7, 6, 3, 2, 9, 1, 4]] prediction str:  if you want you\n",
      "21 loss:  0.9003721475601196 prediction:  [[0 5 2 9 1 4 2 8 7 6 3 2 9 1 4]] true Y:  [[0, 5, 2, 9, 1, 4, 2, 8, 7, 6, 3, 2, 9, 1, 4]] prediction str:  if you want you\n",
      "22 loss:  0.8937520384788513 prediction:  [[0 5 2 9 1 4 2 8 7 6 3 2 9 1 4]] true Y:  [[0, 5, 2, 9, 1, 4, 2, 8, 7, 6, 3, 2, 9, 1, 4]] prediction str:  if you want you\n",
      "23 loss:  0.8881009817123413 prediction:  [[0 5 2 9 1 4 2 8 7 6 3 2 9 1 4]] true Y:  [[0, 5, 2, 9, 1, 4, 2, 8, 7, 6, 3, 2, 9, 1, 4]] prediction str:  if you want you\n",
      "24 loss:  0.882154643535614 prediction:  [[0 5 2 9 1 4 2 8 7 6 3 2 9 1 4]] true Y:  [[0, 5, 2, 9, 1, 4, 2, 8, 7, 6, 3, 2, 9, 1, 4]] prediction str:  if you want you\n",
      "25 loss:  0.8755139112472534 prediction:  [[0 5 2 9 1 4 2 8 7 6 3 2 9 1 4]] true Y:  [[0, 5, 2, 9, 1, 4, 2, 8, 7, 6, 3, 2, 9, 1, 4]] prediction str:  if you want you\n",
      "26 loss:  0.8683796525001526 prediction:  [[0 5 2 9 1 4 2 8 7 6 3 2 9 1 4]] true Y:  [[0, 5, 2, 9, 1, 4, 2, 8, 7, 6, 3, 2, 9, 1, 4]] prediction str:  if you want you\n",
      "27 loss:  0.8615239858627319 prediction:  [[0 5 2 9 1 4 2 8 7 6 3 2 9 1 4]] true Y:  [[0, 5, 2, 9, 1, 4, 2, 8, 7, 6, 3, 2, 9, 1, 4]] prediction str:  if you want you\n",
      "28 loss:  0.8562179207801819 prediction:  [[0 5 2 9 1 4 2 8 7 6 3 2 9 1 4]] true Y:  [[0, 5, 2, 9, 1, 4, 2, 8, 7, 6, 3, 2, 9, 1, 4]] prediction str:  if you want you\n",
      "29 loss:  0.8522685766220093 prediction:  [[0 5 2 9 1 4 2 8 7 6 3 2 9 1 4]] true Y:  [[0, 5, 2, 9, 1, 4, 2, 8, 7, 6, 3, 2, 9, 1, 4]] prediction str:  if you want you\n",
      "30 loss:  0.848340630531311 prediction:  [[0 5 2 9 1 4 2 8 7 6 3 2 9 1 4]] true Y:  [[0, 5, 2, 9, 1, 4, 2, 8, 7, 6, 3, 2, 9, 1, 4]] prediction str:  if you want you\n",
      "31 loss:  0.8446963429450989 prediction:  [[0 5 2 9 1 4 2 8 7 6 3 2 9 1 4]] true Y:  [[0, 5, 2, 9, 1, 4, 2, 8, 7, 6, 3, 2, 9, 1, 4]] prediction str:  if you want you\n",
      "32 loss:  0.8419122099876404 prediction:  [[0 5 2 9 1 4 2 8 7 6 3 2 9 1 4]] true Y:  [[0, 5, 2, 9, 1, 4, 2, 8, 7, 6, 3, 2, 9, 1, 4]] prediction str:  if you want you\n",
      "33 loss:  0.8395769596099854 prediction:  [[0 5 2 9 1 4 2 8 7 6 3 2 9 1 4]] true Y:  [[0, 5, 2, 9, 1, 4, 2, 8, 7, 6, 3, 2, 9, 1, 4]] prediction str:  if you want you\n",
      "34 loss:  0.8370721936225891 prediction:  [[0 5 2 9 1 4 2 8 7 6 3 2 9 1 4]] true Y:  [[0, 5, 2, 9, 1, 4, 2, 8, 7, 6, 3, 2, 9, 1, 4]] prediction str:  if you want you\n",
      "35 loss:  0.8345127701759338 prediction:  [[0 5 2 9 1 4 2 8 7 6 3 2 9 1 4]] true Y:  [[0, 5, 2, 9, 1, 4, 2, 8, 7, 6, 3, 2, 9, 1, 4]] prediction str:  if you want you\n",
      "36 loss:  0.8323920965194702 prediction:  [[0 5 2 9 1 4 2 8 7 6 3 2 9 1 4]] true Y:  [[0, 5, 2, 9, 1, 4, 2, 8, 7, 6, 3, 2, 9, 1, 4]] prediction str:  if you want you\n",
      "37 loss:  0.8307862877845764 prediction:  [[0 5 2 9 1 4 2 8 7 6 3 2 9 1 4]] true Y:  [[0, 5, 2, 9, 1, 4, 2, 8, 7, 6, 3, 2, 9, 1, 4]] prediction str:  if you want you\n",
      "38 loss:  0.829403281211853 prediction:  [[0 5 2 9 1 4 2 8 7 6 3 2 9 1 4]] true Y:  [[0, 5, 2, 9, 1, 4, 2, 8, 7, 6, 3, 2, 9, 1, 4]] prediction str:  if you want you\n",
      "39 loss:  0.8281241655349731 prediction:  [[0 5 2 9 1 4 2 8 7 6 3 2 9 1 4]] true Y:  [[0, 5, 2, 9, 1, 4, 2, 8, 7, 6, 3, 2, 9, 1, 4]] prediction str:  if you want you\n",
      "40 loss:  0.8268402814865112 prediction:  [[0 5 2 9 1 4 2 8 7 6 3 2 9 1 4]] true Y:  [[0, 5, 2, 9, 1, 4, 2, 8, 7, 6, 3, 2, 9, 1, 4]] prediction str:  if you want you\n",
      "41 loss:  0.8253732919692993 prediction:  [[0 5 2 9 1 4 2 8 7 6 3 2 9 1 4]] true Y:  [[0, 5, 2, 9, 1, 4, 2, 8, 7, 6, 3, 2, 9, 1, 4]] prediction str:  if you want you\n",
      "42 loss:  0.8241064548492432 prediction:  [[0 5 2 9 1 4 2 8 7 6 3 2 9 1 4]] true Y:  [[0, 5, 2, 9, 1, 4, 2, 8, 7, 6, 3, 2, 9, 1, 4]] prediction str:  if you want you\n",
      "43 loss:  0.8232228755950928 prediction:  [[0 5 2 9 1 4 2 8 7 6 3 2 9 1 4]] true Y:  [[0, 5, 2, 9, 1, 4, 2, 8, 7, 6, 3, 2, 9, 1, 4]] prediction str:  if you want you\n",
      "44 loss:  0.8224722146987915 prediction:  [[0 5 2 9 1 4 2 8 7 6 3 2 9 1 4]] true Y:  [[0, 5, 2, 9, 1, 4, 2, 8, 7, 6, 3, 2, 9, 1, 4]] prediction str:  if you want you\n",
      "45 loss:  0.8217218518257141 prediction:  [[0 5 2 9 1 4 2 8 7 6 3 2 9 1 4]] true Y:  [[0, 5, 2, 9, 1, 4, 2, 8, 7, 6, 3, 2, 9, 1, 4]] prediction str:  if you want you\n",
      "46 loss:  0.8210353255271912 prediction:  [[0 5 2 9 1 4 2 8 7 6 3 2 9 1 4]] true Y:  [[0, 5, 2, 9, 1, 4, 2, 8, 7, 6, 3, 2, 9, 1, 4]] prediction str:  if you want you\n",
      "47 loss:  0.8203979134559631 prediction:  [[0 5 2 9 1 4 2 8 7 6 3 2 9 1 4]] true Y:  [[0, 5, 2, 9, 1, 4, 2, 8, 7, 6, 3, 2, 9, 1, 4]] prediction str:  if you want you\n",
      "48 loss:  0.8196784257888794 prediction:  [[0 5 2 9 1 4 2 8 7 6 3 2 9 1 4]] true Y:  [[0, 5, 2, 9, 1, 4, 2, 8, 7, 6, 3, 2, 9, 1, 4]] prediction str:  if you want you\n"
     ]
    },
    {
     "name": "stdout",
     "output_type": "stream",
     "text": [
      "49 loss:  0.8190271258354187 prediction:  [[0 5 2 9 1 4 2 8 7 6 3 2 9 1 4]] true Y:  [[0, 5, 2, 9, 1, 4, 2, 8, 7, 6, 3, 2, 9, 1, 4]] prediction str:  if you want you\n"
     ]
    }
   ],
   "source": [
    "for i in range(50):\n",
    "    optimizer.zero_grad()\n",
    "    outputs, _status = rnn(X)\n",
    "    loss = criterion(outputs.view(-1, dic_size), Y.view(-1))\n",
    "    loss.backward()\n",
    "    optimizer.step()\n",
    "    \n",
    "    result = outputs.data.numpy().argmax(axis=2)\n",
    "    result_str = ''.join([char_set[c] for c in np.squeeze(result)])\n",
    "    print(i, \"loss: \", loss.item(), \"prediction: \", result, \"true Y: \", y_data, \"prediction str: \", result_str)"
   ]
  },
  {
   "cell_type": "code",
   "execution_count": null,
   "metadata": {},
   "outputs": [],
   "source": []
  }
 ],
 "metadata": {
  "kernelspec": {
   "display_name": "Python 3",
   "language": "python",
   "name": "python3"
  },
  "language_info": {
   "codemirror_mode": {
    "name": "ipython",
    "version": 3
   },
   "file_extension": ".py",
   "mimetype": "text/x-python",
   "name": "python",
   "nbconvert_exporter": "python",
   "pygments_lexer": "ipython3",
   "version": "3.7.4"
  }
 },
 "nbformat": 4,
 "nbformat_minor": 2
}
