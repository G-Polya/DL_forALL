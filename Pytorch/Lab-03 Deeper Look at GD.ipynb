{
 "cells": [
  {
   "cell_type": "code",
   "execution_count": 1,
   "metadata": {},
   "outputs": [],
   "source": [
    "import torch"
   ]
  },
  {
   "cell_type": "code",
   "execution_count": 19,
   "metadata": {},
   "outputs": [],
   "source": [
    "x_train = torch.FloatTensor([1,2,3]).view(3,1)\n",
    "y_train = torch.FloatTensor([1,2,3]).view(3,1)\n"
   ]
  },
  {
   "cell_type": "code",
   "execution_count": 32,
   "metadata": {},
   "outputs": [
    {
     "name": "stdout",
     "output_type": "stream",
     "text": [
      "Epoch    0/100 W: 0.000, Cost: 4.666667\n",
      "Epoch   10/100 W: 0.779, Cost: 0.228547\n",
      "Epoch   20/100 W: 0.951, Cost: 0.011193\n",
      "Epoch   30/100 W: 0.989, Cost: 0.000548\n",
      "Epoch   40/100 W: 0.998, Cost: 0.000027\n",
      "Epoch   50/100 W: 0.999, Cost: 0.000001\n",
      "Epoch   60/100 W: 1.000, Cost: 0.000000\n",
      "Epoch   70/100 W: 1.000, Cost: 0.000000\n",
      "Epoch   80/100 W: 1.000, Cost: 0.000000\n",
      "Epoch   90/100 W: 1.000, Cost: 0.000000\n",
      "Epoch  100/100 W: 1.000, Cost: 0.000000\n"
     ]
    }
   ],
   "source": [
    "W = torch.zeros(1)\n",
    "\n",
    "lr = 0.01\n",
    "\n",
    "nb_epochs = 100\n",
    "\n",
    "for epoch in range(nb_epochs + 1):\n",
    "    hypothesis = x_train * W\n",
    "    \n",
    "    cost = torch.mean((hypothesis - y_train) ** 2)\n",
    "    gradient = torch.sum((hypothesis - y_train) * x_train)\n",
    "    if epoch %10 == 0:\n",
    "        print(\"Epoch {:4d}/{} W: {:.3f}, Cost: {:.6f}\".format(epoch,nb_epochs,W.item(), cost.item()))\n",
    "    \n",
    "    W -= lr * gradient\n"
   ]
  },
  {
   "cell_type": "code",
   "execution_count": 34,
   "metadata": {},
   "outputs": [
    {
     "ename": "SyntaxError",
     "evalue": "invalid syntax (<ipython-input-34-b102699b7572>, line 4)",
     "output_type": "error",
     "traceback": [
      "\u001b[1;36m  File \u001b[1;32m\"<ipython-input-34-b102699b7572>\"\u001b[1;36m, line \u001b[1;32m4\u001b[0m\n\u001b[1;33m    for epoch range(nb_epochs + 1):\u001b[0m\n\u001b[1;37m                  ^\u001b[0m\n\u001b[1;31mSyntaxError\u001b[0m\u001b[1;31m:\u001b[0m invalid syntax\n"
     ]
    }
   ],
   "source": [
    "W = torch.zeros(1,requies_grad = True)\n",
    "opitimizer = torch.optim.SGD([W], lr = 0.15)\n",
    "\n",
    "for epoch in range(nb_epochs + 1):\n",
    "    hypothesis = x_train * W\n",
    "    cost = torch.mean((hypothesis - y_train) ** 2)\n",
    "    \n",
    "    if epoch %10 == 0:\n",
    "        print(\"Epoch {:4d}/{} W: {:.3f}, Cost: {:.6f}\".format(epoch,nb_epochs,W.item(), cost.item()))\n",
    "    \n",
    "    optimizer.zero_grad()\n",
    "    cost.backward()\n",
    "    optimizer.step()"
   ]
  },
  {
   "cell_type": "code",
   "execution_count": null,
   "metadata": {},
   "outputs": [],
   "source": []
  }
 ],
 "metadata": {
  "kernelspec": {
   "display_name": "Python 3",
   "language": "python",
   "name": "python3"
  },
  "language_info": {
   "codemirror_mode": {
    "name": "ipython",
    "version": 3
   },
   "file_extension": ".py",
   "mimetype": "text/x-python",
   "name": "python",
   "nbconvert_exporter": "python",
   "pygments_lexer": "ipython3",
   "version": "3.7.6"
  }
 },
 "nbformat": 4,
 "nbformat_minor": 4
}
