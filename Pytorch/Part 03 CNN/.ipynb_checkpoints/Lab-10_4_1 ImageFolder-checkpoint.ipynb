{
 "cells": [
  {
   "cell_type": "code",
   "execution_count": 1,
   "metadata": {},
   "outputs": [],
   "source": [
    "import torchvision\n",
    "from torchvision import transforms\n",
    "\n",
    "from torch.utils.data import DataLoader"
   ]
  },
  {
   "cell_type": "code",
   "execution_count": 2,
   "metadata": {},
   "outputs": [],
   "source": [
    "from matplotlib.pyplot import imshow\n",
    "%matplotlib inline"
   ]
  },
  {
   "cell_type": "code",
   "execution_count": 7,
   "metadata": {},
   "outputs": [
    {
     "name": "stdout",
     "output_type": "stream",
     "text": [
      " C 드라이브의 볼륨에는 이름이 없습니다.\n",
      " 볼륨 일련 번호: 96ED-75D7\n",
      "\n",
      " C:\\Users\\wlska\\Documents\\DL_forALL\\Pytorch\\Part 03 CNN 디렉터리\n",
      "\n",
      "2020-02-14  오후 09:53    <DIR>          .\n",
      "2020-02-14  오후 09:53    <DIR>          ..\n",
      "2020-02-14  오후 09:46    <DIR>          .ipynb_checkpoints\n",
      "2020-02-14  오후 04:39             8,669 Lab-10_3_1 visdom_example.ipynb\n",
      "2020-02-14  오후 04:59             8,629 Lab-10_3_2 MNIST_CNN with Visdom.ipynb\n",
      "2020-02-14  오후 09:53             1,336 Lab-10_4_1 ImageFolder1.ipynb\n",
      "2020-02-14  오후 04:04             7,556 Lab-10-01 mnist_cnn.ipynb\n",
      "2020-02-14  오후 01:09             2,757 Lab-10-1 Convolution.ipynb\n",
      "2020-02-14  오후 05:24    <DIR>          MNIST_data\n",
      "2020-02-14  오후 09:50    <DIR>          origin_data\n",
      "               5개 파일              28,947 바이트\n",
      "               5개 디렉터리  350,017,503,232 바이트 남음\n"
     ]
    }
   ],
   "source": [
    "%ls"
   ]
  },
  {
   "cell_type": "code",
   "execution_count": null,
   "metadata": {},
   "outputs": [],
   "source": []
  }
 ],
 "metadata": {
  "kernelspec": {
   "display_name": "Python 3",
   "language": "python",
   "name": "python3"
  },
  "language_info": {
   "codemirror_mode": {
    "name": "ipython",
    "version": 3
   },
   "file_extension": ".py",
   "mimetype": "text/x-python",
   "name": "python",
   "nbconvert_exporter": "python",
   "pygments_lexer": "ipython3",
   "version": "3.7.6"
  }
 },
 "nbformat": 4,
 "nbformat_minor": 4
}
