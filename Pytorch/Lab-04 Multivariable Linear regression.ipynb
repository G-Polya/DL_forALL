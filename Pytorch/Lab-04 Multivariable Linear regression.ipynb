{
 "cells": [
  {
   "cell_type": "code",
   "execution_count": 1,
   "metadata": {},
   "outputs": [],
   "source": [
    "import torch"
   ]
  },
  {
   "cell_type": "code",
   "execution_count": 2,
   "metadata": {},
   "outputs": [
    {
     "name": "stdout",
     "output_type": "stream",
     "text": [
      "Epoch    0/20 hypothesis: tensor([0., 0., 0., 0., 0.]) Cost: 29661.800781\n",
      "Epoch    1/20 hypothesis: tensor([67.2578, 80.8397, 79.6523, 86.7394, 61.6605]) Cost: 9298.520508\n",
      "Epoch    2/20 hypothesis: tensor([104.9128, 126.0990, 124.2466, 135.3015,  96.1821]) Cost: 2915.713135\n",
      "Epoch    3/20 hypothesis: tensor([125.9942, 151.4381, 149.2133, 162.4896, 115.5097]) Cost: 915.040527\n",
      "Epoch    4/20 hypothesis: tensor([137.7968, 165.6247, 163.1911, 177.7112, 126.3307]) Cost: 287.936005\n",
      "Epoch    5/20 hypothesis: tensor([144.4044, 173.5674, 171.0168, 186.2332, 132.3891]) Cost: 91.371017\n",
      "Epoch    6/20 hypothesis: tensor([148.1035, 178.0144, 175.3980, 191.0042, 135.7812]) Cost: 29.758139\n",
      "Epoch    7/20 hypothesis: tensor([150.1744, 180.5042, 177.8508, 193.6753, 137.6805]) Cost: 10.445305\n",
      "Epoch    8/20 hypothesis: tensor([151.3336, 181.8983, 179.2240, 195.1707, 138.7440]) Cost: 4.391228\n",
      "Epoch    9/20 hypothesis: tensor([151.9824, 182.6789, 179.9928, 196.0079, 139.3396]) Cost: 2.493135\n",
      "Epoch   10/20 hypothesis: tensor([152.3454, 183.1161, 180.4231, 196.4765, 139.6732]) Cost: 1.897688\n",
      "Epoch   11/20 hypothesis: tensor([152.5485, 183.3610, 180.6640, 196.7389, 139.8602]) Cost: 1.710541\n",
      "Epoch   12/20 hypothesis: tensor([152.6620, 183.4982, 180.7988, 196.8857, 139.9651]) Cost: 1.651413\n",
      "Epoch   13/20 hypothesis: tensor([152.7253, 183.5752, 180.8742, 196.9678, 140.0240]) Cost: 1.632387\n",
      "Epoch   14/20 hypothesis: tensor([152.7606, 183.6184, 180.9164, 197.0138, 140.0571]) Cost: 1.625923\n",
      "Epoch   15/20 hypothesis: tensor([152.7802, 183.6427, 180.9399, 197.0395, 140.0759]) Cost: 1.623412\n",
      "Epoch   16/20 hypothesis: tensor([152.7909, 183.6565, 180.9530, 197.0538, 140.0865]) Cost: 1.622141\n",
      "Epoch   17/20 hypothesis: tensor([152.7968, 183.6643, 180.9603, 197.0618, 140.0927]) Cost: 1.621253\n",
      "Epoch   18/20 hypothesis: tensor([152.7999, 183.6688, 180.9644, 197.0662, 140.0963]) Cost: 1.620500\n",
      "Epoch   19/20 hypothesis: tensor([152.8014, 183.6715, 180.9666, 197.0686, 140.0985]) Cost: 1.619770\n",
      "Epoch   20/20 hypothesis: tensor([152.8020, 183.6731, 180.9677, 197.0699, 140.1000]) Cost: 1.619033\n"
     ]
    }
   ],
   "source": [
    "x_train = torch.FloatTensor([[73,80,75],\n",
    "                             [93,88,93],\n",
    "                             [89,91,90],\n",
    "                             [96,98,100],\n",
    "                             [73,66,70]])\n",
    "y_train = torch.FloatTensor([[152],\n",
    "                             [185],\n",
    "                             [180],\n",
    "                             [196],\n",
    "                             [142]])\n",
    "\n",
    "W = torch.zeros((3,1),requires_grad = True)\n",
    "b = torch.zeros(1,requires_grad = True)\n",
    "\n",
    "optimizer = torch.optim.SGD([W,b],lr =1e-5)\n",
    "\n",
    "nb_epochs = 20\n",
    "\n",
    "for epoch in range(nb_epochs+1):\n",
    "    hypothesis = x_train.matmul(W) + b\n",
    "    \n",
    "    cost = torch.mean((hypothesis - y_train) ** 2)\n",
    "    \n",
    "    optimizer.zero_grad()\n",
    "    cost.backward()\n",
    "    optimizer.step()\n",
    "    \n",
    "    print(\"Epoch {:4d}/{} hypothesis: {} Cost: {:.6f}\".format(epoch, nb_epochs, hypothesis.squeeze().detach(), cost.item()))"
   ]
  },
  {
   "cell_type": "code",
   "execution_count": 8,
   "metadata": {},
   "outputs": [],
   "source": [
    "class LinearRegressionModel(nn.Module):\n",
    "    def __init__(self):\n",
    "        super().__init__()\n",
    "        self.linear = nn.Linear(1,1)\n",
    "        \n",
    "    def forward(self,x):\n",
    "        return self.linear(x)"
   ]
  },
  {
   "cell_type": "code",
   "execution_count": 12,
   "metadata": {},
   "outputs": [],
   "source": [
    "class MultivariateLinearRegrssionModel(nn.Module):\n",
    "    def __init__(self):\n",
    "        super().__init__()\n",
    "        self.linear = nn.Linear(3,1)\n",
    "        \n",
    "    def forward(self,x):\n",
    "        return self.linear(x)"
   ]
  },
  {
   "cell_type": "code",
   "execution_count": 15,
   "metadata": {},
   "outputs": [
    {
     "name": "stdout",
     "output_type": "stream",
     "text": [
      "Epoch    0/20 Cost: 50428.214844\n",
      "Epoch    1/20 Cost: 15807.369141\n",
      "Epoch    2/20 Cost: 4955.569824\n",
      "Epoch    3/20 Cost: 1554.106812\n",
      "Epoch    4/20 Cost: 487.928314\n",
      "Epoch    5/20 Cost: 153.738510\n",
      "Epoch    6/20 Cost: 48.987045\n",
      "Epoch    7/20 Cost: 16.153204\n",
      "Epoch    8/20 Cost: 5.861357\n",
      "Epoch    9/20 Cost: 2.635292\n",
      "Epoch   10/20 Cost: 1.623916\n",
      "Epoch   11/20 Cost: 1.306780\n",
      "Epoch   12/20 Cost: 1.207235\n",
      "Epoch   13/20 Cost: 1.175880\n",
      "Epoch   14/20 Cost: 1.165916\n",
      "Epoch   15/20 Cost: 1.162644\n",
      "Epoch   16/20 Cost: 1.161469\n",
      "Epoch   17/20 Cost: 1.160947\n",
      "Epoch   18/20 Cost: 1.160655\n",
      "Epoch   19/20 Cost: 1.160427\n",
      "Epoch   20/20 Cost: 1.160189\n"
     ]
    }
   ],
   "source": [
    "import torch.nn as nn\n",
    "import torch.nn.functional as F\n",
    "\n",
    "x_train = torch.FloatTensor([[73,80,75],\n",
    "                             [93,88,93],\n",
    "                             [89,91,90],\n",
    "                             [96,98,100],\n",
    "                             [73,66,70]])\n",
    "y_train = torch.FloatTensor([[152],\n",
    "                             [185],\n",
    "                             [180],\n",
    "                             [196],\n",
    "                             [142]])\n",
    "# W = torch.zeros((3,1),requires_grad = True)\n",
    "# b = torch.zeros(1,requires_grad = True)\n",
    "\n",
    "model = MultivariateLinearRegrssionModel()\n",
    "optimizer = torch.optim.SGD(model.parameters(),lr =1e-5)\n",
    "\n",
    "nb_epochs = 20\n",
    "\n",
    "for epoch in range(nb_epochs+1):\n",
    "    # hypothesis = x_train.matmul(W) + b\n",
    "    prediction = model(x_train)\n",
    "    \n",
    "    cost = F.mse_loss(prediction ,y_train)\n",
    "    \n",
    "    optimizer.zero_grad()\n",
    "    cost.backward()\n",
    "    optimizer.step()\n",
    "    print('Epoch {:4d}/{} Cost: {:.6f}'.format(\n",
    "        epoch, nb_epochs, cost.item()\n",
    "    ))\n",
    "    "
   ]
  },
  {
   "cell_type": "markdown",
   "metadata": {},
   "source": [
    "## Loading Data"
   ]
  },
  {
   "cell_type": "code",
   "execution_count": 17,
   "metadata": {},
   "outputs": [],
   "source": [
    "from torch.utils.data import Dataset\n",
    "\n",
    "class CustomDataset(Dataset):\n",
    "    def __init__(self):\n",
    "        self.x_data = [[73,80,75],\n",
    "                       [93,88,93],\n",
    "                       [89,91,90],\n",
    "                       [96,98,100],\n",
    "                       [73,66,70]]\n",
    "        self.y_data = [[152],[185],[180],[196],[142]]\n",
    "        \n",
    "    def __len__(self):\n",
    "        return len(self.x_data)\n",
    "    \n",
    "    def __getitem__(self, idx):\n",
    "        x = torch.FloatTensor(self.x_data[idx])\n",
    "        y = torch.FloatTensor(self.y_data[idx])\n",
    "        \n",
    "        return x,y\n",
    "    \n",
    "\n",
    "dataset = CustomDataset()"
   ]
  },
  {
   "cell_type": "code",
   "execution_count": 19,
   "metadata": {},
   "outputs": [],
   "source": [
    "from torch.utils.data import DataLoader\n",
    "\n",
    "dataloader = DataLoader(dataset,batch_size=2,shuffle=True)\n",
    "\n"
   ]
  },
  {
   "cell_type": "code",
   "execution_count": 21,
   "metadata": {},
   "outputs": [
    {
     "name": "stdout",
     "output_type": "stream",
     "text": [
      "Epoch    0/20 Batch 1/3 Cost: 0.278795\n",
      "Epoch    0/20 Batch 2/3 Cost: 2.575426\n",
      "Epoch    0/20 Batch 3/3 Cost: 0.202058\n",
      "Epoch    1/20 Batch 1/3 Cost: 1.311344\n",
      "Epoch    1/20 Batch 2/3 Cost: 2.733799\n",
      "Epoch    1/20 Batch 3/3 Cost: 0.377875\n",
      "Epoch    2/20 Batch 1/3 Cost: 1.405846\n",
      "Epoch    2/20 Batch 2/3 Cost: 1.859795\n",
      "Epoch    2/20 Batch 3/3 Cost: 0.381580\n",
      "Epoch    3/20 Batch 1/3 Cost: 1.550172\n",
      "Epoch    3/20 Batch 2/3 Cost: 2.097101\n",
      "Epoch    3/20 Batch 3/3 Cost: 0.994758\n",
      "Epoch    4/20 Batch 1/3 Cost: 0.163939\n",
      "Epoch    4/20 Batch 2/3 Cost: 2.760423\n",
      "Epoch    4/20 Batch 3/3 Cost: 0.229342\n",
      "Epoch    5/20 Batch 1/3 Cost: 1.096316\n",
      "Epoch    5/20 Batch 2/3 Cost: 1.898888\n",
      "Epoch    5/20 Batch 3/3 Cost: 0.464863\n",
      "Epoch    6/20 Batch 1/3 Cost: 1.990687\n",
      "Epoch    6/20 Batch 2/3 Cost: 2.348912\n",
      "Epoch    6/20 Batch 3/3 Cost: 0.039828\n",
      "Epoch    7/20 Batch 1/3 Cost: 0.269970\n",
      "Epoch    7/20 Batch 2/3 Cost: 1.618798\n",
      "Epoch    7/20 Batch 3/3 Cost: 3.105804\n",
      "Epoch    8/20 Batch 1/3 Cost: 1.175686\n",
      "Epoch    8/20 Batch 2/3 Cost: 2.219704\n",
      "Epoch    8/20 Batch 3/3 Cost: 0.175950\n",
      "Epoch    9/20 Batch 1/3 Cost: 1.590123\n",
      "Epoch    9/20 Batch 2/3 Cost: 1.586676\n",
      "Epoch    9/20 Batch 3/3 Cost: 0.103698\n",
      "Epoch   10/20 Batch 1/3 Cost: 1.641425\n",
      "Epoch   10/20 Batch 2/3 Cost: 0.374903\n",
      "Epoch   10/20 Batch 3/3 Cost: 2.755916\n",
      "Epoch   11/20 Batch 1/3 Cost: 2.381909\n",
      "Epoch   11/20 Batch 2/3 Cost: 1.388411\n",
      "Epoch   11/20 Batch 3/3 Cost: 0.049176\n",
      "Epoch   12/20 Batch 1/3 Cost: 1.787660\n",
      "Epoch   12/20 Batch 2/3 Cost: 0.347496\n",
      "Epoch   12/20 Batch 3/3 Cost: 2.695307\n",
      "Epoch   13/20 Batch 1/3 Cost: 0.496177\n",
      "Epoch   13/20 Batch 2/3 Cost: 0.908695\n",
      "Epoch   13/20 Batch 3/3 Cost: 5.018582\n",
      "Epoch   14/20 Batch 1/3 Cost: 2.480585\n",
      "Epoch   14/20 Batch 2/3 Cost: 1.414578\n",
      "Epoch   14/20 Batch 3/3 Cost: 0.023306\n",
      "Epoch   15/20 Batch 1/3 Cost: 0.948585\n",
      "Epoch   15/20 Batch 2/3 Cost: 2.669062\n",
      "Epoch   15/20 Batch 3/3 Cost: 0.313238\n",
      "Epoch   16/20 Batch 1/3 Cost: 1.058596\n",
      "Epoch   16/20 Batch 2/3 Cost: 2.498666\n",
      "Epoch   16/20 Batch 3/3 Cost: 0.390949\n",
      "Epoch   17/20 Batch 1/3 Cost: 1.800734\n",
      "Epoch   17/20 Batch 2/3 Cost: 1.546330\n",
      "Epoch   17/20 Batch 3/3 Cost: 0.268519\n",
      "Epoch   18/20 Batch 1/3 Cost: 2.193999\n",
      "Epoch   18/20 Batch 2/3 Cost: 2.004045\n",
      "Epoch   18/20 Batch 3/3 Cost: 0.219469\n",
      "Epoch   19/20 Batch 1/3 Cost: 1.953369\n",
      "Epoch   19/20 Batch 2/3 Cost: 1.499450\n",
      "Epoch   19/20 Batch 3/3 Cost: 0.241828\n",
      "Epoch   20/20 Batch 1/3 Cost: 2.227995\n",
      "Epoch   20/20 Batch 2/3 Cost: 0.701451\n",
      "Epoch   20/20 Batch 3/3 Cost: 2.495104\n"
     ]
    }
   ],
   "source": [
    "nb_epochs = 20\n",
    "for epoch in range(nb_epochs+1):\n",
    "    for batch_idx, samples in enumerate(dataloader):\n",
    "        x_train,y_train = samples\n",
    "        \n",
    "        prediction = model(x_train)\n",
    "        \n",
    "        cost = F.mse_loss(prediction, y_train)\n",
    "        \n",
    "        optimizer.zero_grad()\n",
    "        cost.backward()\n",
    "        optimizer.step()\n",
    "        \n",
    "        print(\"Epoch {:4d}/{} Batch {}/{} Cost: {:.6f}\".format(\n",
    "            epoch,nb_epochs,batch_idx+1,len(dataloader),cost.item()))"
   ]
  },
  {
   "cell_type": "code",
   "execution_count": null,
   "metadata": {},
   "outputs": [],
   "source": []
  }
 ],
 "metadata": {
  "kernelspec": {
   "display_name": "Python 3",
   "language": "python",
   "name": "python3"
  },
  "language_info": {
   "codemirror_mode": {
    "name": "ipython",
    "version": 3
   },
   "file_extension": ".py",
   "mimetype": "text/x-python",
   "name": "python",
   "nbconvert_exporter": "python",
   "pygments_lexer": "ipython3",
   "version": "3.7.6"
  }
 },
 "nbformat": 4,
 "nbformat_minor": 4
}
